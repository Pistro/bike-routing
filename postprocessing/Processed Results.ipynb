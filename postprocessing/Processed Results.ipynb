{
 "cells": [
  {
   "cell_type": "markdown",
   "metadata": {},
   "source": [
    "# Load data"
   ]
  },
  {
   "cell_type": "code",
   "execution_count": null,
   "metadata": {
    "collapsed": true
   },
   "outputs": [],
   "source": [
    "import json\n",
    "import matplotlib.pyplot as plt\n",
    "%matplotlib inline\n",
    "import numpy as np"
   ]
  },
  {
   "cell_type": "code",
   "execution_count": null,
   "metadata": {
    "collapsed": true
   },
   "outputs": [],
   "source": [
    "with open('../source/output/results.json') as data_file:    \n",
    "    data = json.load(data_file)"
   ]
  },
  {
   "cell_type": "code",
   "execution_count": null,
   "metadata": {
    "collapsed": true
   },
   "outputs": [],
   "source": [
    "categories = np.array([x for x in  range(2500, 72500, 5000)])\n",
    "reaches = np.array([x for x in range(0, 1500, 500)])"
   ]
  },
  {
   "cell_type": "code",
   "execution_count": null,
   "metadata": {
    "collapsed": true
   },
   "outputs": [],
   "source": [
    "results = list()\n",
    "for node in data['nodes']:\n",
    "    for result in node['tag_results']:\n",
    "        result['configuration']['id'] = node['id']\n",
    "        results.append(result)"
   ]
  },
  {
   "cell_type": "markdown",
   "metadata": {},
   "source": [
    "# Approximation algorithm"
   ]
  },
  {
   "cell_type": "markdown",
   "metadata": {},
   "source": [
    "## Best scores"
   ]
  },
  {
   "cell_type": "code",
   "execution_count": null,
   "metadata": {
    "collapsed": false
   },
   "outputs": [],
   "source": [
    "for result in results:\n",
    "    if len(result['output']['paths']):\n",
    "        result['output']['bestOutput'] = min(result['output']['paths'], key=lambda p: p['tags']['score'])"
   ]
  },
  {
   "cell_type": "code",
   "execution_count": null,
   "metadata": {
    "collapsed": false
   },
   "outputs": [],
   "source": [
    "colors = ['b', 'g', 'r']\n",
    "lens = [float(result['output']['bestOutput']['tags']['length'])/1000 for result in results if 'bestOutput' in result['output']]\n",
    "score = [float(result['output']['bestOutput']['tags']['score']) for result in results if 'bestOutput' in result['output']]\n",
    "weights = [float(result['output']['bestOutput']['tags']['weight']) for result in results if 'bestOutput' in result['output']]\n",
    "interfs = [float(result['output']['bestOutput']['tags']['interf']) for result in results if 'bestOutput' in result['output']]\n",
    "types = [colors[int(result['configuration']['reach']/500)] for result in results if 'bestOutput' in result['output']]\n",
    "plt.figure(figsize=(13, 8))\n",
    "plt.title('Best scores')\n",
    "plt.scatter(lens, score, color=types)\n",
    "plt.xlim([0, 70])\n",
    "plt.ylim(ymin=0)\n",
    "plt.ylabel('Score')\n",
    "plt.xlabel('Tour length (km)')\n",
    "plt.legend((plt.Circle((0, 0), 1, fc='b'), plt.Circle((0, 0), 1, fc='g'), plt.Circle((0, 0), 1, fc='r')), ('0', '500', '1000'))\n",
    "plt.show()\n",
    "plt.figure(figsize=(13, 8))\n",
    "plt.title('Best weights')\n",
    "plt.scatter(lens, weights, color=types)\n",
    "plt.xlim([0, 70])\n",
    "plt.ylim(ymin=0)\n",
    "plt.ylabel('Score')\n",
    "plt.xlabel('Tour length (km)')\n",
    "plt.legend((plt.Circle((0, 0), 1, fc='b'), plt.Circle((0, 0), 1, fc='g'), plt.Circle((0, 0), 1, fc='r')), ('0', '500', '1000'))\n",
    "plt.show()\n",
    "plt.figure(figsize=(13, 8))\n",
    "plt.title('Best interferences')\n",
    "plt.scatter(lens, interfs, color=types)\n",
    "plt.xlim([0, 70])\n",
    "plt.ylim(ymin=0)\n",
    "plt.ylabel('Score')\n",
    "plt.xlabel('Tour length (km)')\n",
    "plt.legend((plt.Circle((0, 0), 1, fc='b'), plt.Circle((0, 0), 1, fc='g'), plt.Circle((0, 0), 1, fc='r')), ('0', '500', '1000'))\n",
    "plt.show()"
   ]
  },
  {
   "cell_type": "code",
   "execution_count": null,
   "metadata": {
    "collapsed": false
   },
   "outputs": [],
   "source": [
    "outliers = list()\n",
    "confs = 0\n",
    "interf_confs = 0\n",
    "unachieved_confs = 0\n",
    "for node in data['nodes']:\n",
    "    ls = list()\n",
    "    for result in node['tag_results']:\n",
    "        if result['configuration']['reach']==0:\n",
    "            confs += 1\n",
    "            if 'bestOutput' in result['output']:\n",
    "                if float(result['output']['bestOutput']['tags']['interf'])>1:\n",
    "                    ls.append(str(result['configuration']['minLength'])+'-'+str(result['configuration']['maxLength']))\n",
    "                    interf_confs += 1\n",
    "            else:\n",
    "                unachieved_confs += 1\n",
    "                ls.append(-1)\n",
    "    if len(ls):\n",
    "        outliers.append({'id': node['id'], 'lat': node['lat'], 'lon': node['lon'], 'problems': str(ls).replace('\\'', '')})\n",
    "        \n",
    "with open('best_outliers.json', 'w') as data_file:\n",
    "    json.dump({'nodes': outliers}, data_file)\n",
    "    \n",
    "print(\"Outlier nodes: \" + str(100*float(len(outliers))/len(data['nodes'])) + '%')\n",
    "print(\"High intereference configurations: \" + str(100*float(interf_confs)/confs) + '%')\n",
    "print(\"Unachieved configurations: \" + str(100*float(unachieved_confs)/confs) + '%')"
   ]
  },
  {
   "cell_type": "code",
   "execution_count": null,
   "metadata": {
    "collapsed": false
   },
   "outputs": [],
   "source": [
    "bests_per_category = [[list() for category in categories] for reach in reaches]\n",
    "for result in results:\n",
    "    if 'bestOutput' in result['output']:\n",
    "        bests_per_category[int(result['configuration']['reach']/500)][int(result['configuration']['minLength']/5000)].append(float(result['output']['bestOutput']['tags']['score']))\n",
    "\n",
    "for i in range(len(bests_per_category)):\n",
    "    for j in range(len(bests_per_category[i])):\n",
    "        bests_per_category[i][j] = np.array(bests_per_category[i][j])"
   ]
  },
  {
   "cell_type": "code",
   "execution_count": null,
   "metadata": {
    "collapsed": false
   },
   "outputs": [],
   "source": [
    "p50_per_category = [np.array([np.percentile(bests_per_category[i][j], 50) for j in range(len(bests_per_category[i]))]) for i in range(len(bests_per_category))]\n",
    "p75_per_category = [np.array([np.percentile(bests_per_category[i][j], 75) for j in range(len(bests_per_category[i]))]) for i in range(len(bests_per_category))]\n",
    "p25_per_category = [np.array([np.percentile(bests_per_category[i][j], 25) for j in range(len(bests_per_category[i]))]) for i in range(len(bests_per_category))]\n",
    "\n",
    "plt.figure(figsize=(13, 8))\n",
    "plt.errorbar(categories/1000, p50_per_category[0], yerr=[p75_per_category[0]-p50_per_category[0], p50_per_category[0]-p25_per_category[0]], label='0')\n",
    "plt.errorbar(categories/1000, p50_per_category[1], yerr=[p75_per_category[1]-p50_per_category[1], p50_per_category[1]-p25_per_category[1]], label='500')\n",
    "plt.errorbar(categories/1000, p50_per_category[2], yerr=[p75_per_category[2]-p50_per_category[2], p50_per_category[2]-p25_per_category[2]], label='1000')\n",
    "plt.title('Best score percentiles for varying tour lengths and reaches')\n",
    "plt.ylabel('Score')\n",
    "plt.xlabel('Tour length (km)')\n",
    "plt.legend()"
   ]
  },
  {
   "cell_type": "code",
   "execution_count": null,
   "metadata": {
    "collapsed": false
   },
   "outputs": [],
   "source": [
    "avg_per_category = [[np.mean(bests_per_category[i][j]) for j in range(len(bests_per_category[i]))] for i in range(len(bests_per_category))]\n",
    "std_per_category = [[np.std(bests_per_category[i][j]) for j in range(len(bests_per_category[i]))] for i in range(len(bests_per_category))]\n",
    "\n",
    "plt.figure(figsize=(13, 8))\n",
    "plt.errorbar(categories/1000, avg_per_category[0], yerr=std_per_category[0], label='0')\n",
    "plt.errorbar(categories/1000, avg_per_category[1], yerr=std_per_category[1], label='500')\n",
    "plt.errorbar(categories/1000, avg_per_category[2], yerr=std_per_category[2], label='1000')\n",
    "plt.title('Best score mean and std for varying tour lengths and reaches')\n",
    "plt.ylabel('Score')\n",
    "plt.xlabel('Tour length (km)')\n",
    "plt.legend()"
   ]
  },
  {
   "cell_type": "markdown",
   "metadata": {},
   "source": [
    "## All scores"
   ]
  },
  {
   "cell_type": "code",
   "execution_count": null,
   "metadata": {
    "collapsed": false
   },
   "outputs": [],
   "source": [
    "paths = list()\n",
    "for node in data['nodes']:\n",
    "    for result in node['tag_results']:\n",
    "        for path in result['output']['paths']:\n",
    "            path['id'] = node['id']\n",
    "            path['minLength'] = result['configuration']['minLength']\n",
    "            path['maxLength'] = result['configuration']['maxLength']\n",
    "            path['id'] = node['id']\n",
    "            path['bestScore'] = result['output']['bestScore']\n",
    "            path['reach'] = result['configuration']['reach']\n",
    "            paths.append(path)"
   ]
  },
  {
   "cell_type": "code",
   "execution_count": null,
   "metadata": {
    "collapsed": false
   },
   "outputs": [],
   "source": [
    "colors = ['b', 'g', 'r']\n",
    "lens = [float(path['tags']['length'])/1000 for path in paths]\n",
    "score = [float(path['tags']['score']) for path in paths]\n",
    "weights = [float(path['tags']['weight']) for path in paths]\n",
    "interfs = [float(path['tags']['interf']) for path in paths]\n",
    "types = [colors[int(path['reach']/500)] for path in paths]\n",
    "plt.figure(figsize=(13, 8))\n",
    "plt.title('Path scores')\n",
    "plt.scatter(lens, score, color=types)\n",
    "plt.xlim([0, 70])\n",
    "plt.ylim(ymin=0)\n",
    "plt.ylabel('Score')\n",
    "plt.xlabel('Tour length (km)')\n",
    "plt.legend((plt.Circle((0, 0), 1, fc='b'), plt.Circle((0, 0), 1, fc='g'), plt.Circle((0, 0), 1, fc='r')), ('0', '500', '1000'), loc='upper left')\n",
    "plt.show()\n",
    "plt.figure(figsize=(13, 8))\n",
    "plt.title('Path weights')\n",
    "plt.scatter(lens, weights, color=types)\n",
    "plt.xlim([0, 70])\n",
    "plt.ylim(ymin=0)\n",
    "plt.ylabel('Score')\n",
    "plt.xlabel('Tour length (km)')\n",
    "plt.legend((plt.Circle((0, 0), 1, fc='b'), plt.Circle((0, 0), 1, fc='g'), plt.Circle((0, 0), 1, fc='r')), ('0', '500', '1000'))\n",
    "plt.show()\n",
    "plt.figure(figsize=(13, 8))\n",
    "plt.title('Path interferences')\n",
    "plt.scatter(lens, interfs, color=types)\n",
    "plt.xlim([0, 70])\n",
    "plt.ylim(ymin=0)\n",
    "plt.ylabel('Score')\n",
    "plt.xlabel('Tour length (km)')\n",
    "plt.legend((plt.Circle((0, 0), 1, fc='b'), plt.Circle((0, 0), 1, fc='g'), plt.Circle((0, 0), 1, fc='r')), ('0', '500', '1000'), loc='upper left')\n",
    "plt.show()"
   ]
  },
  {
   "cell_type": "code",
   "execution_count": null,
   "metadata": {
    "collapsed": false
   },
   "outputs": [],
   "source": [
    "outliers = list()\n",
    "confs = 0\n",
    "interf_confs = 0\n",
    "confs = 0\n",
    "unachieved_confs = 0\n",
    "unachieved_rates = list()\n",
    "outliers = list()\n",
    "for node in data['nodes']:\n",
    "    d = dict()\n",
    "    node_confs = 0\n",
    "    node_unachieved_confs = 0\n",
    "    for result in node['tag_results']:\n",
    "        if result['configuration']['reach']==0:\n",
    "            node_confs += result['configuration']['alternatives']\n",
    "            node_unachieved_confs += result['configuration']['alternatives'] - len(result['output']['paths'])\n",
    "            for path in result['output']['paths']:\n",
    "                if path['tags']['interf']>1:\n",
    "                    s = str(result['configuration']['minLength'])+'-'+str(result['configuration']['maxLength'])\n",
    "                    if not s in d:\n",
    "                        d[s] = 0\n",
    "                    d[s] += 1\n",
    "            \n",
    "    confs += node_confs\n",
    "    unachieved_confs += node_unachieved_confs\n",
    "    unachieved_rate = float(node_unachieved_confs)/node_confs\n",
    "    unachieved_rates.append(unachieved_rate)\n",
    "    if unachieved_rate>0.1 or len(d):\n",
    "        outliers.append({'id': node['id'], 'lat': node['lat'], 'lon': node['lon'], 'unachieved_rate': unachieved_rate, 'high_interf': str(d)})\n",
    "        \n",
    "with open('path_outliers.json', 'w') as data_file:\n",
    "    json.dump({'nodes': outliers}, data_file)\n",
    "\n",
    "print(\"Unachieved configurations: \" + str(100*float(unachieved_confs)/confs) + '%')"
   ]
  },
  {
   "cell_type": "code",
   "execution_count": null,
   "metadata": {
    "collapsed": false
   },
   "outputs": [],
   "source": [
    "plt.hist(unachieved_rates, range=[0, 0.2])\n",
    "plt.title('Node failure rate')\n",
    "plt.xlabel('Failure rate (%)')\n",
    "plt.ylabel('# nodes')"
   ]
  },
  {
   "cell_type": "code",
   "execution_count": null,
   "metadata": {
    "collapsed": false
   },
   "outputs": [],
   "source": [
    "paths_per_category = [[list() for category in categories] for reach in reaches]\n",
    "for path in paths:\n",
    "    paths_per_category[int(path['reach']/500)][int(path['minLength']/5000)].append(float(path['tags']['score']))\n",
    "\n",
    "for i in range(len(paths_per_category)):\n",
    "    for j in range(len(paths_per_category[i])):\n",
    "        paths_per_category[i][j] = np.array(paths_per_category[i][j])"
   ]
  },
  {
   "cell_type": "code",
   "execution_count": null,
   "metadata": {
    "collapsed": false
   },
   "outputs": [],
   "source": [
    "p50_per_category = [np.array([np.percentile(paths_per_category[i][j], 50) for j in range(len(paths_per_category[i]))]) for i in range(len(paths_per_category))]\n",
    "p75_per_category = [np.array([np.percentile(paths_per_category[i][j], 75) for j in range(len(paths_per_category[i]))]) for i in range(len(paths_per_category))]\n",
    "p25_per_category = [np.array([np.percentile(paths_per_category[i][j], 25) for j in range(len(paths_per_category[i]))]) for i in range(len(paths_per_category))]\n",
    "\n",
    "plt.figure(figsize=(13, 8))\n",
    "plt.errorbar(categories/1000, p50_per_category[0], yerr=[p75_per_category[0]-p50_per_category[0], p50_per_category[0]-p25_per_category[0]], label='0')\n",
    "plt.errorbar(categories/1000, p50_per_category[1], yerr=[p75_per_category[1]-p50_per_category[1], p50_per_category[1]-p25_per_category[1]], label='500')\n",
    "plt.errorbar(categories/1000, p50_per_category[2], yerr=[p75_per_category[2]-p50_per_category[2], p50_per_category[2]-p25_per_category[2]], label='1000')\n",
    "plt.title('Path score percentiles for varying tour lengths and reaches')\n",
    "plt.ylabel('Score')\n",
    "plt.xlabel('Tour length (km)')\n",
    "plt.legend()"
   ]
  },
  {
   "cell_type": "code",
   "execution_count": null,
   "metadata": {
    "collapsed": false
   },
   "outputs": [],
   "source": [
    "avg_per_category = [[np.mean(paths_per_category[i][j]) for j in range(len(paths_per_category[i]))] for i in range(len(paths_per_category))]\n",
    "std_per_category = [[np.std(paths_per_category[i][j]) for j in range(len(paths_per_category[i]))] for i in range(len(paths_per_category))]\n",
    "\n",
    "plt.figure(figsize=(13, 8))\n",
    "plt.errorbar(categories/1000, avg_per_category[0], yerr=std_per_category[0], label='0')\n",
    "plt.errorbar(categories/1000, avg_per_category[1], yerr=std_per_category[1], label='500')\n",
    "plt.errorbar(categories/1000, avg_per_category[2], yerr=std_per_category[2], label='1000')\n",
    "plt.title('Path score mean and std for varying tour lengths and reaches')\n",
    "plt.ylabel('Score')\n",
    "plt.xlabel('Tour length (km)')\n",
    "plt.legend()"
   ]
  },
  {
   "cell_type": "markdown",
   "metadata": {},
   "source": [
    "## Execution time"
   ]
  },
  {
   "cell_type": "markdown",
   "metadata": {},
   "source": [
    "### Outliers"
   ]
  },
  {
   "cell_type": "code",
   "execution_count": null,
   "metadata": {
    "collapsed": false
   },
   "outputs": [],
   "source": [
    "extract = list()\n",
    "forward = list()\n",
    "backward = list()\n",
    "rem = list()\n",
    "types = list()\n",
    "lengths = list()\n",
    "\n",
    "for result in results:\n",
    "    extract_time = result['output']['extractTime']\n",
    "    forward_time = result['output']['forwardTime']\n",
    "    avg_backward_time = result['output']['backwardTimeAvg']\n",
    "    attempts = result['configuration']['alternatives']\n",
    "    avg_rem_time = (result['output']['time']-attempts*avg_backward_time-forward_time-extract_time)/attempts\n",
    "    reach_ind = int(result['configuration']['reach']/500)\n",
    "    extract.append(extract_time)\n",
    "    forward.append(forward_time)\n",
    "    backward.append(avg_backward_time)\n",
    "    rem.append(avg_rem_time)\n",
    "    types.append(colors[reach_ind])\n",
    "    lengths.append((result['configuration']['minLength']+result['configuration']['maxLength'])/2)\n",
    "    \n",
    "extract = np.array(extract)\n",
    "forward = np.array(forward)\n",
    "backward = np.array(backward)\n",
    "rem = np.array(rem)\n",
    "lengths = np.array(lengths)"
   ]
  },
  {
   "cell_type": "code",
   "execution_count": null,
   "metadata": {
    "collapsed": false
   },
   "outputs": [],
   "source": [
    "plt.figure(figsize=(13, 8))\n",
    "plt.title('Forward times')\n",
    "plt.scatter(lengths/1000, forward*1000, color=types)\n",
    "plt.xlim([0, 70])\n",
    "plt.ylim(ymin=0)\n",
    "plt.ylabel('Time (ms)')\n",
    "plt.xlabel('Tour length (km)')\n",
    "plt.plot([0, 70], [1700, 1700], 'k-')\n",
    "plt.legend((plt.Circle((0, 0), 1, fc='b'), plt.Circle((0, 0), 1, fc='g'), plt.Circle((0, 0), 1, fc='r')), ('0', '500', '1000'), loc='upper left')\n",
    "plt.show()\n",
    "\n",
    "plt.figure(figsize=(13, 8))\n",
    "plt.title('Backward times')\n",
    "plt.scatter(lengths/1000, backward*1000, color=types)\n",
    "plt.xlim([0, 70])\n",
    "plt.ylim(ymin=0)\n",
    "plt.ylabel('Time (ms)')\n",
    "plt.xlabel('Tour length (km)')\n",
    "plt.plot([0, 70], [200, 700], 'k-')\n",
    "plt.legend((plt.Circle((0, 0), 1, fc='b'), plt.Circle((0, 0), 1, fc='g'), plt.Circle((0, 0), 1, fc='r')), ('0', '500', '1000'), loc='upper left')\n",
    "plt.show()"
   ]
  },
  {
   "cell_type": "code",
   "execution_count": null,
   "metadata": {
    "collapsed": false
   },
   "outputs": [],
   "source": [
    "nrOutliers = 0\n",
    "for result in results:\n",
    "    outlier = False\n",
    "    reach_ind = int(result['configuration']['reach']/500)\n",
    "    length = (result['configuration']['minLength']+result['configuration']['maxLength'])/2\n",
    "    forward_time = result['output']['forwardTime']\n",
    "    avg_backward_time = result['output']['backwardTimeAvg']\n",
    "    if (forward_time>1.7):\n",
    "        outlier = True\n",
    "    if (avg_backward_time>0.2+length*(0.7-.2)/70000):\n",
    "        outlier = True\n",
    "    result['output']['outlierTime'] = outlier\n",
    "    nrOutliers += outlier\n",
    "\n",
    "print('Time outliers: ' + str(100*float(nrOutliers)/len(results)) + '%')"
   ]
  },
  {
   "cell_type": "markdown",
   "metadata": {},
   "source": [
    "### Average execution times"
   ]
  },
  {
   "cell_type": "code",
   "execution_count": null,
   "metadata": {
    "collapsed": false
   },
   "outputs": [],
   "source": [
    "extract_per_category = [[list() for category in categories] for reach in reaches]\n",
    "forward_per_category = [[list() for category in categories] for reach in reaches]\n",
    "avg_backward_per_category = [[list() for category in categories] for reach in reaches]\n",
    "avg_rem_per_category = [[list() for category in categories] for reach in reaches]\n",
    "tot_backward_per_category = [[list() for category in categories] for reach in reaches]\n",
    "tot_rem_per_category = [[list() for category in categories] for reach in reaches]\n",
    "extract = list()\n",
    "forward = list()\n",
    "backward = list()\n",
    "rem = list()\n",
    "types = list()\n",
    "lengths = list()\n",
    "\n",
    "for result in results:\n",
    "    if not result['output']['outlierTime']:\n",
    "        extract_time = result['output']['extractTime']\n",
    "        forward_time = result['output']['forwardTime']\n",
    "        avg_backward_time = result['output']['backwardTimeAvg']\n",
    "        attempts = result['configuration']['alternatives']\n",
    "        avg_rem_time = (result['output']['time']-attempts*avg_backward_time-forward_time-extract_time)/attempts\n",
    "        reach_ind = int(result['configuration']['reach']/500)\n",
    "        category_ind = int(result['configuration']['minLength']/5000)\n",
    "        extract_per_category[reach_ind][category_ind].append(extract_time)\n",
    "        forward_per_category[reach_ind][category_ind].append(forward_time)\n",
    "        avg_backward_per_category[reach_ind][category_ind].append(avg_backward_time)\n",
    "        avg_rem_per_category[reach_ind][category_ind].append(avg_rem_time)\n",
    "        extract.append(extract_time)\n",
    "        forward.append(forward_time)\n",
    "        backward.append(avg_backward_time)\n",
    "        rem.append(avg_rem_time)\n",
    "        types.append(colors[reach_ind])\n",
    "        lengths.append((result['configuration']['minLength']+result['configuration']['maxLength'])/2)\n",
    "        tot_backward_per_category[reach_ind][category_ind].append(avg_backward_time*attempts)\n",
    "        tot_rem_per_category[reach_ind][category_ind].append(avg_rem_time*attempts)\n",
    "    \n",
    "    \n",
    "for i in range(len(reaches)):\n",
    "    for j in range(len(categories)):\n",
    "        extract_per_category[i][j] = np.array(extract_per_category[i][j])\n",
    "        forward_per_category[i][j] = np.array(forward_per_category[i][j])\n",
    "        avg_backward_per_category[i][j] = np.array(avg_backward_per_category[i][j])\n",
    "        avg_rem_per_category[i][j] = np.array(avg_rem_per_category[i][j])\n",
    "        tot_backward_per_category[i][j] = np.array(tot_backward_per_category[i][j])\n",
    "        tot_rem_per_category[i][j] = np.array(tot_rem_per_category[i][j])\n",
    "        \n",
    "extract = np.array(extract)\n",
    "forward = np.array(forward)\n",
    "backward = np.array(backward)\n",
    "rem = np.array(rem)\n",
    "lengths = np.array(lengths)"
   ]
  },
  {
   "cell_type": "code",
   "execution_count": null,
   "metadata": {
    "collapsed": false
   },
   "outputs": [],
   "source": [
    "plt.figure(figsize=(13, 8))\n",
    "plt.title('Forward times')\n",
    "plt.scatter(lengths/1000, forward*1000, color=types)\n",
    "plt.xlim([0, 70])\n",
    "plt.ylim(ymin=0)\n",
    "plt.ylabel('Time (ms)')\n",
    "plt.xlabel('Tour length (km)')\n",
    "plt.plot([0, 70], [1700, 1700], 'k-')\n",
    "plt.legend((plt.Circle((0, 0), 1, fc='b'), plt.Circle((0, 0), 1, fc='g'), plt.Circle((0, 0), 1, fc='r')), ('0', '500', '1000'), loc='upper left')\n",
    "plt.show()\n",
    "\n",
    "plt.figure(figsize=(13, 8))\n",
    "plt.title('Backward times')\n",
    "plt.scatter(lengths/1000, backward*1000, color=types)\n",
    "plt.xlim([0, 70])\n",
    "plt.ylim(ymin=0)\n",
    "plt.ylabel('Time (ms)')\n",
    "plt.xlabel('Tour length (km)')\n",
    "plt.plot([0, 70], [200, 700], 'k-')\n",
    "plt.legend((plt.Circle((0, 0), 1, fc='b'), plt.Circle((0, 0), 1, fc='g'), plt.Circle((0, 0), 1, fc='r')), ('0', '500', '1000'), loc='upper left')\n",
    "plt.show()"
   ]
  },
  {
   "cell_type": "code",
   "execution_count": null,
   "metadata": {
    "collapsed": false
   },
   "outputs": [],
   "source": [
    "avg_extract_per_category = [[1000*np.mean(extract_per_category[i][j]) for j in range(len(categories))] for i in range(len(reaches))]\n",
    "avg_forward_per_category = [[1000*np.mean(forward_per_category[i][j]) for j in range(len(categories))] for i in range(len(reaches))]\n",
    "avg_avg_backward_per_category = [[1000*np.mean(avg_backward_per_category[i][j]) for j in range(len(categories))] for i in range(len(reaches))]\n",
    "avg_avg_rem_per_category = [[1000*np.mean(avg_rem_per_category[i][j]) for j in range(len(categories))] for i in range(len(reaches))]\n",
    "\n",
    "plt.figure()\n",
    "polys = plt.stackplot(categories/1000, avg_extract_per_category[0], avg_forward_per_category[0], avg_avg_backward_per_category[0], avg_avg_rem_per_category[0])\n",
    "legendProxies = []\n",
    "for poly in polys:\n",
    "    legendProxies.append(plt.Rectangle((0, 0), 1, 1, fc=poly.get_facecolor()[0]))\n",
    "plt.legend(legendProxies, ['extraction', 'forward routing', 'backward routing', 'other'], loc='upper left')\n",
    "plt.title('Single attempt time (reach 0)')\n",
    "plt.xlabel('Length (km)')\n",
    "plt.ylabel('Time (ms)')\n",
    "plt.show()\n",
    "\n",
    "plt.figure()\n",
    "polys = plt.stackplot(categories/1000, avg_extract_per_category[1], avg_forward_per_category[1], avg_avg_backward_per_category[1], avg_avg_rem_per_category[1])\n",
    "legendProxies = []\n",
    "for poly in polys:\n",
    "    legendProxies.append(plt.Rectangle((0, 0), 1, 1, fc=poly.get_facecolor()[0]))\n",
    "plt.legend(legendProxies, ['extraction', 'forward routing', 'backward routing', 'other'], loc='upper left')\n",
    "plt.title('Single attempt time (reach 500)')\n",
    "plt.xlim(xmin=0)\n",
    "plt.xlabel('Length (km)')\n",
    "plt.ylabel('Time (ms)')\n",
    "plt.show()\n",
    "\n",
    "plt.figure()\n",
    "polys = plt.stackplot(categories/1000, avg_extract_per_category[2], avg_forward_per_category[2], avg_avg_backward_per_category[2], avg_avg_rem_per_category[2])\n",
    "legendProxies = []\n",
    "for poly in polys:\n",
    "    legendProxies.append(plt.Rectangle((0, 0), 1, 1, fc=poly.get_facecolor()[0]))\n",
    "plt.legend(legendProxies, ['extraction', 'forward routing', 'backward routing', 'other'], loc='upper left')\n",
    "plt.title('Single attempt time (reach 1000)')\n",
    "plt.xlim(xmin=0)\n",
    "plt.xlabel('Length (km)')\n",
    "plt.ylabel('Time (ms)')\n",
    "plt.show()"
   ]
  },
  {
   "cell_type": "code",
   "execution_count": null,
   "metadata": {
    "collapsed": false
   },
   "outputs": [],
   "source": [
    "plt.figure()\n",
    "polys = plt.stackplot(categories/1000, avg_forward_per_category[0], avg_avg_backward_per_category[0])\n",
    "legendProxies = []\n",
    "for poly in polys:\n",
    "    legendProxies.append(plt.Rectangle((0, 0), 1, 1, fc=poly.get_facecolor()[0]))\n",
    "plt.legend(legendProxies, ['forward routing', 'backward routing'], loc='upper left')\n",
    "plt.title('Single attempt time (reach 0)')\n",
    "plt.xlabel('Length (km)')\n",
    "plt.ylabel('Time (ms)')\n",
    "plt.show()\n",
    "\n",
    "plt.figure()\n",
    "polys = plt.stackplot(categories/1000, avg_forward_per_category[1], avg_avg_backward_per_category[1])\n",
    "legendProxies = []\n",
    "for poly in polys:\n",
    "    legendProxies.append(plt.Rectangle((0, 0), 1, 1, fc=poly.get_facecolor()[0]))\n",
    "plt.legend(legendProxies, ['forward routing', 'backward routing'], loc='upper left')\n",
    "plt.title('Single attempt time (reach 500)')\n",
    "plt.xlim(xmin=0)\n",
    "plt.xlabel('Length (km)')\n",
    "plt.ylabel('Time (ms)')\n",
    "plt.show()\n",
    "\n",
    "plt.figure()\n",
    "polys = plt.stackplot(categories/1000, avg_forward_per_category[2], avg_avg_backward_per_category[2])\n",
    "legendProxies = []\n",
    "for poly in polys:\n",
    "    legendProxies.append(plt.Rectangle((0, 0), 1, 1, fc=poly.get_facecolor()[0]))\n",
    "plt.legend(legendProxies, ['forward routing', 'backward routing'], loc='upper left')\n",
    "plt.title('Single attempt time (reach 1000)')\n",
    "plt.xlim(xmin=0)\n",
    "plt.xlabel('Length (km)')\n",
    "plt.ylabel('Time (ms)')\n",
    "plt.show()"
   ]
  },
  {
   "cell_type": "code",
   "execution_count": null,
   "metadata": {
    "collapsed": false
   },
   "outputs": [],
   "source": [
    "avg_tot_backward_per_category = [[1000*np.mean(tot_backward_per_category[i][j]) for j in range(len(categories))] for i in range(len(reaches))]\n",
    "avg_tot_rem_per_category = [[1000*np.mean(tot_rem_per_category[i][j]) for j in range(len(categories))] for i in range(len(reaches))]\n",
    "\n",
    "plt.figure()\n",
    "polys = plt.stackplot(categories/1000, avg_extract_per_category[0], avg_forward_per_category[0], avg_tot_backward_per_category[0], avg_tot_rem_per_category[0])\n",
    "legendProxies = []\n",
    "for poly in polys:\n",
    "    legendProxies.append(plt.Rectangle((0, 0), 1, 1, fc=poly.get_facecolor()[0]))\n",
    "plt.legend(legendProxies, ['extraction', 'forward routing', 'backward routing', 'other'], loc='upper left')\n",
    "plt.title('8 attempts time (reach 0)')\n",
    "plt.xlabel('Length (km)')\n",
    "plt.ylabel('Time (ms)')\n",
    "plt.show()\n",
    "\n",
    "plt.figure()\n",
    "polys = plt.stackplot(categories/1000, avg_extract_per_category[1], avg_forward_per_category[1], avg_tot_backward_per_category[1], avg_tot_rem_per_category[1])\n",
    "legendProxies = []\n",
    "for poly in polys:\n",
    "    legendProxies.append(plt.Rectangle((0, 0), 1, 1, fc=poly.get_facecolor()[0]))\n",
    "plt.legend(legendProxies, ['extraction', 'forward routing', 'backward routing', 'other'], loc='upper left')\n",
    "plt.title('8 attempts time (reach 500)')\n",
    "plt.xlim(xmin=0)\n",
    "plt.xlabel('Length (km)')\n",
    "plt.ylabel('Time (ms)')\n",
    "plt.show()\n",
    "\n",
    "plt.figure()\n",
    "polys = plt.stackplot(categories/1000, avg_extract_per_category[2], avg_forward_per_category[2], avg_tot_backward_per_category[2], avg_tot_rem_per_category[2])\n",
    "legendProxies = []\n",
    "for poly in polys:\n",
    "    legendProxies.append(plt.Rectangle((0, 0), 1, 1, fc=poly.get_facecolor()[0]))\n",
    "plt.legend(legendProxies, ['extraction', 'forward routing', 'backward routing', 'other'], loc='upper left')\n",
    "plt.title('8 attempts time (reach 1000)')\n",
    "plt.xlim(xmin=0)\n",
    "plt.xlabel('Length (km)')\n",
    "plt.ylabel('Time (ms)')\n",
    "plt.show()"
   ]
  },
  {
   "cell_type": "code",
   "execution_count": null,
   "metadata": {
    "collapsed": false
   },
   "outputs": [],
   "source": [
    "plt.figure()\n",
    "polys = plt.stackplot(categories/1000, avg_forward_per_category[0], avg_tot_backward_per_category[0])\n",
    "legendProxies = []\n",
    "for poly in polys:\n",
    "    legendProxies.append(plt.Rectangle((0, 0), 1, 1, fc=poly.get_facecolor()[0]))\n",
    "plt.legend(legendProxies, ['forward routing', 'backward routing'], loc='upper left')\n",
    "plt.title('8 attempts time (reach 0)')\n",
    "plt.xlabel('Length (km)')\n",
    "plt.ylabel('Time (ms)')\n",
    "plt.show()\n",
    "\n",
    "plt.figure()\n",
    "polys = plt.stackplot(categories/1000, avg_forward_per_category[1], avg_tot_backward_per_category[1])\n",
    "legendProxies = []\n",
    "for poly in polys:\n",
    "    legendProxies.append(plt.Rectangle((0, 0), 1, 1, fc=poly.get_facecolor()[0]))\n",
    "plt.legend(legendProxies, ['forward routing', 'backward routing'], loc='upper left')\n",
    "plt.title('8 attempts time (reach 500)')\n",
    "plt.xlim(xmin=0)\n",
    "plt.xlabel('Length (km)')\n",
    "plt.ylabel('Time (ms)')\n",
    "plt.show()\n",
    "\n",
    "plt.figure()\n",
    "polys = plt.stackplot(categories/1000, avg_forward_per_category[2], avg_tot_backward_per_category[2])\n",
    "legendProxies = []\n",
    "for poly in polys:\n",
    "    legendProxies.append(plt.Rectangle((0, 0), 1, 1, fc=poly.get_facecolor()[0]))\n",
    "plt.legend(legendProxies, ['forward routing', 'backward routing'], loc='upper left')\n",
    "plt.title('8 attempts time (reach 1000)')\n",
    "plt.xlim(xmin=0)\n",
    "plt.xlabel('Length (km)')\n",
    "plt.ylabel('Time (ms)')\n",
    "plt.show()"
   ]
  },
  {
   "cell_type": "code",
   "execution_count": null,
   "metadata": {
    "collapsed": false
   },
   "outputs": [],
   "source": []
  }
 ],
 "metadata": {
  "kernelspec": {
   "display_name": "Python 3",
   "language": "python",
   "name": "python3"
  },
  "language_info": {
   "codemirror_mode": {
    "name": "ipython",
    "version": 3
   },
   "file_extension": ".py",
   "mimetype": "text/x-python",
   "name": "python",
   "nbconvert_exporter": "python",
   "pygments_lexer": "ipython3",
   "version": "3.4.3"
  }
 },
 "nbformat": 4,
 "nbformat_minor": 2
}
