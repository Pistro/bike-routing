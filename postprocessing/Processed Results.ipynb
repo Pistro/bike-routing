{
 "cells": [
  {
   "cell_type": "markdown",
   "metadata": {},
   "source": [
    "# Load data"
   ]
  },
  {
   "cell_type": "code",
   "execution_count": null,
   "metadata": {
    "collapsed": true
   },
   "outputs": [],
   "source": [
    "import json\n",
    "import matplotlib.pyplot as plt\n",
    "%matplotlib inline\n",
    "import numpy as np\n",
    "country = 'belgium'\n",
    "extension = 'eps'"
   ]
  },
  {
   "cell_type": "code",
   "execution_count": null,
   "metadata": {
    "collapsed": true
   },
   "outputs": [],
   "source": [
    "def bucket_list(lens, vals):\n",
    "    vals_list = [list() for i in range(int(max(lens)/5)+1)]\n",
    "    for i in range(len(lens)):\n",
    "        vals_list[int(lens[i]/5)].append(vals[i])\n",
    "    for i in range(len(vals_list)):\n",
    "        vals_list[i] = np.array(vals_list[i])\n",
    "    return vals_list"
   ]
  },
  {
   "cell_type": "markdown",
   "metadata": {},
   "source": [
    "# Exact results"
   ]
  },
  {
   "cell_type": "code",
   "execution_count": null,
   "metadata": {
    "collapsed": true
   },
   "outputs": [],
   "source": [
    "with open('../source/output/' + country + '_results_exact.json') as data_file:    \n",
    "    data_exact = json.load(data_file)"
   ]
  },
  {
   "cell_type": "code",
   "execution_count": null,
   "metadata": {
    "collapsed": false
   },
   "outputs": [],
   "source": [
    "results_exact = list()\n",
    "for node in data_exact['nodes']:\n",
    "    for result in node['tag_results']:\n",
    "        result['configuration']['id'] = node['id']\n",
    "        results_exact.append(result)"
   ]
  },
  {
   "cell_type": "code",
   "execution_count": null,
   "metadata": {
    "collapsed": true
   },
   "outputs": [],
   "source": [
    "lens = [(result['configuration']['minLength'] + result['configuration']['maxLength'])/2000 for result in results_exact]\n",
    "score = [(result['output']['scoreBound']) for result in results_exact]\n",
    "types = ['b' if 'route' in result['output'] else 'r' for result in results_exact]"
   ]
  },
  {
   "cell_type": "code",
   "execution_count": null,
   "metadata": {
    "collapsed": false
   },
   "outputs": [],
   "source": [
    "plt.figure(figsize=(13, 8))\n",
    "plt.title('Score bounds')\n",
    "plt.scatter(lens, score, color=types)\n",
    "plt.xlim([0, 70])\n",
    "plt.ylim(ymin=0)\n",
    "plt.show()\n",
    "\n",
    "plt.figure(figsize=(13, 8))\n",
    "plt.boxplot(bucket_list(lens, score), whis=[5, 95], sym='', positions = [2.5+i*5 for i in range(14)])\n",
    "plt.xlim([0, 70])\n",
    "plt.ylim(ymin=0)\n",
    "plt.show()"
   ]
  },
  {
   "cell_type": "code",
   "execution_count": null,
   "metadata": {
    "collapsed": true
   },
   "outputs": [],
   "source": [
    "min_lens = [result['configuration']['minLength']/1000 for result in results_exact if 'route' in result['output']]\n",
    "lens = [result['output']['route']['tags']['length']/1000 for result in results_exact if 'route' in result['output']]\n",
    "weights = [result['output']['route']['tags']['weight'] for result in results_exact if 'route' in result['output']]\n",
    "interfs = [result['output']['route']['tags']['interf'] for result in results_exact if 'route' in result['output']]"
   ]
  },
  {
   "cell_type": "code",
   "execution_count": null,
   "metadata": {
    "collapsed": false
   },
   "outputs": [],
   "source": [
    "plt.figure(figsize=(13, 8))\n",
    "plt.title('Optimal weights')\n",
    "plt.scatter(lens, weights)\n",
    "plt.xlim([0, 70])\n",
    "plt.ylim(ymin=0)\n",
    "plt.show()\n",
    "\n",
    "plt.figure(figsize=(13, 8))\n",
    "plt.boxplot(bucket_list(min_lens, weights), whis=[5, 95], sym='', positions = [2.5+i*5 for i in range(14)])\n",
    "plt.xlim([0, 70])\n",
    "plt.ylim(ymin=0)\n",
    "plt.show()"
   ]
  },
  {
   "cell_type": "code",
   "execution_count": null,
   "metadata": {
    "collapsed": false
   },
   "outputs": [],
   "source": [
    "plt.figure(figsize=(13, 8))\n",
    "plt.title('Optimal interference')\n",
    "plt.scatter(lens, interfs)\n",
    "plt.xlim([0, 70])\n",
    "plt.ylim(ymin=0)\n",
    "plt.show()\n",
    "\n",
    "plt.figure(figsize=(13, 8))\n",
    "plt.boxplot(bucket_list(min_lens, interfs), whis=[5, 95], sym='', positions = [2.5+i*5 for i in range(14)])\n",
    "plt.xlim([0, 70])\n",
    "plt.ylim(ymin=0)\n",
    "plt.show()"
   ]
  },
  {
   "cell_type": "markdown",
   "metadata": {},
   "source": [
    "# Approximation algorithm (approx)"
   ]
  },
  {
   "cell_type": "code",
   "execution_count": null,
   "metadata": {
    "collapsed": true
   },
   "outputs": [],
   "source": [
    "with open('../source/output/' + country + '_results_heuristic.json') as data_file:    \n",
    "    data_heuristic = json.load(data_file)"
   ]
  },
  {
   "cell_type": "markdown",
   "metadata": {},
   "source": [
    "## Best Scores"
   ]
  },
  {
   "cell_type": "code",
   "execution_count": null,
   "metadata": {
    "collapsed": false
   },
   "outputs": [],
   "source": [
    "results_heuristic = list()\n",
    "for node in data_heuristic['nodes']:\n",
    "    for result in node['tag_results']:\n",
    "        result['configuration']['id'] = node['id']\n",
    "        results_heuristic.append(result)"
   ]
  },
  {
   "cell_type": "code",
   "execution_count": null,
   "metadata": {
    "collapsed": false
   },
   "outputs": [],
   "source": [
    "for result in results_heuristic:\n",
    "    if len(result['output']['paths']):\n",
    "        result['output']['bestOutput'] = min(result['output']['paths'], key=lambda p: p['tags']['score'])"
   ]
  },
  {
   "cell_type": "code",
   "execution_count": null,
   "metadata": {
    "collapsed": false
   },
   "outputs": [],
   "source": [
    "min_lens = [result['configuration']['minLength']/1000 for result in results_heuristic if 'bestOutput' in result['output']]\n",
    "lens = [result['output']['bestOutput']['tags']['length']/1000 for result in results_heuristic if 'bestOutput' in result['output']]\n",
    "score = [result['output']['bestOutput']['tags']['score'] for result in results_heuristic if 'bestOutput' in result['output']]\n",
    "weights = [result['output']['bestOutput']['tags']['weight'] for result in results_heuristic if 'bestOutput' in result['output']]\n",
    "interfs = [result['output']['bestOutput']['tags']['interf'] for result in results_heuristic if 'bestOutput' in result['output']]"
   ]
  },
  {
   "cell_type": "code",
   "execution_count": null,
   "metadata": {
    "collapsed": false
   },
   "outputs": [],
   "source": [
    "plt.figure(figsize=(13, 8))\n",
    "plt.title('Best scores (4 attempts)')\n",
    "plt.scatter(lens, score)\n",
    "plt.xlim([0, 70])\n",
    "plt.ylim(ymin=0)\n",
    "plt.show()\n",
    "\n",
    "plt.figure(figsize=(13, 8))\n",
    "plt.boxplot(bucket_list(min_lens, score), whis=[5, 95], sym='', positions = [2.5+i*5 for i in range(14)])\n",
    "plt.xlim([0, 70])\n",
    "plt.ylim(ymin=0)\n",
    "plt.show()"
   ]
  },
  {
   "cell_type": "code",
   "execution_count": null,
   "metadata": {
    "collapsed": false
   },
   "outputs": [],
   "source": [
    "plt.figure(figsize=(13, 8))\n",
    "plt.title('Best weights (4 attempts)')\n",
    "plt.scatter(lens, weights)\n",
    "plt.xlim([0, 70])\n",
    "plt.ylim(ymin=0)\n",
    "plt.show()\n",
    "\n",
    "plt.figure(figsize=(13, 8))\n",
    "plt.boxplot(bucket_list(min_lens, weights), whis=[5, 95], sym='', positions = [2.5+i*5 for i in range(14)])\n",
    "plt.xlim([0, 70])\n",
    "plt.ylim(ymin=0)\n",
    "plt.show()"
   ]
  },
  {
   "cell_type": "code",
   "execution_count": null,
   "metadata": {
    "collapsed": false
   },
   "outputs": [],
   "source": [
    "plt.figure(figsize=(13, 8))\n",
    "plt.title('Best interference (4 attempts)')\n",
    "plt.scatter(lens, interfs)\n",
    "plt.xlim([0, 70])\n",
    "plt.ylim(ymin=0)\n",
    "plt.show()\n",
    "\n",
    "plt.figure(figsize=(13, 8))\n",
    "plt.boxplot(bucket_list(min_lens, interfs), whis=[5, 95], sym='', positions = [2.5+i*5 for i in range(14)])\n",
    "plt.ylim(ymin=0)\n",
    "plt.xlim([0, 70])\n",
    "plt.show()"
   ]
  },
  {
   "cell_type": "code",
   "execution_count": null,
   "metadata": {
    "collapsed": false
   },
   "outputs": [],
   "source": [
    "idLen_to_exOut = { str(result['configuration']['id']) + '_' + str(result['configuration']['minLength']): result['output'] for result in results_exact}\n",
    "for result in results_heuristic:\n",
    "    key = str(result['configuration']['id']) + '_' + str(result['configuration']['minLength'])\n",
    "    result['exactOutput'] = idLen_to_exOut[key]"
   ]
  },
  {
   "cell_type": "code",
   "execution_count": null,
   "metadata": {
    "collapsed": false
   },
   "outputs": [],
   "source": [
    "lens = [ (result['configuration']['minLength'] + result['configuration']['maxLength'])/2000 for result in results_heuristic if 'bestOutput' in result['output']]\n",
    "deltas = [ result['output']['bestOutput']['tags']['score']-result['exactOutput']['scoreBound'] for result in results_heuristic if 'bestOutput' in result['output']]"
   ]
  },
  {
   "cell_type": "code",
   "execution_count": null,
   "metadata": {
    "collapsed": false
   },
   "outputs": [],
   "source": [
    "plt.figure(figsize=(13, 8))\n",
    "plt.title('Best deltas (4 attempts)')\n",
    "plt.scatter(lens, deltas)\n",
    "plt.xlim([0, 70])\n",
    "plt.ylim(ymin=0)\n",
    "plt.show()\n",
    "\n",
    "plt.figure(figsize=(13, 8))\n",
    "plt.boxplot(bucket_list(lens, deltas), positions = [2.5+i*5 for i in range(14)], whis=[5, 95], sym='')\n",
    "plt.xlim([0, 70])\n",
    "plt.show()"
   ]
  },
  {
   "cell_type": "markdown",
   "metadata": {},
   "source": [
    "## All scores"
   ]
  },
  {
   "cell_type": "code",
   "execution_count": null,
   "metadata": {
    "collapsed": true
   },
   "outputs": [],
   "source": [
    "paths = list()\n",
    "for node in data_heuristic['nodes']:\n",
    "    for result in node['tag_results']:\n",
    "        for path in result['output']['paths']:\n",
    "            path['id'] = node['id']\n",
    "            path['minLength'] = result['configuration']['minLength']\n",
    "            path['maxLength'] = result['configuration']['maxLength']\n",
    "            path['id'] = node['id']\n",
    "            path['reach'] = result['configuration']['reach']\n",
    "            paths.append(path)"
   ]
  },
  {
   "cell_type": "code",
   "execution_count": null,
   "metadata": {
    "collapsed": true
   },
   "outputs": [],
   "source": [
    "min_lens = [path['minLength']/1000 for path in paths]\n",
    "lens = [path['tags']['length']/1000 for path in paths]\n",
    "score = [path['tags']['score'] for path in paths]\n",
    "weights = [path['tags']['weight'] for path in paths]\n",
    "interfs = [path['tags']['interf'] for path in paths]"
   ]
  },
  {
   "cell_type": "code",
   "execution_count": null,
   "metadata": {
    "collapsed": false
   },
   "outputs": [],
   "source": [
    "plt.figure(figsize=(13, 8))\n",
    "plt.title('Path scores')\n",
    "plt.scatter(lens, score)\n",
    "plt.xlim([0, 70])\n",
    "plt.ylim(ymin=0)\n",
    "plt.show()\n",
    "\n",
    "plt.figure(figsize=(13, 8))\n",
    "plt.boxplot(bucket_list(min_lens, score), whis=[5, 95], sym='', positions = [2.5+i*5 for i in range(14)])\n",
    "plt.xlim([0, 70])\n",
    "plt.ylim(ymin=0)\n",
    "plt.show()"
   ]
  },
  {
   "cell_type": "code",
   "execution_count": null,
   "metadata": {
    "collapsed": false
   },
   "outputs": [],
   "source": [
    "plt.figure(figsize=(13, 8))\n",
    "plt.title('Path weights')\n",
    "plt.scatter(lens, weights)\n",
    "plt.xlim([0, 70])\n",
    "plt.ylim(ymin=0)\n",
    "plt.show()\n",
    "\n",
    "plt.figure(figsize=(13, 8))\n",
    "plt.boxplot(bucket_list(min_lens, weights), whis=[5, 95], sym='', positions = [2.5+i*5 for i in range(14)])\n",
    "plt.xlim([0, 70])\n",
    "plt.ylim(ymin=0)\n",
    "plt.show()"
   ]
  },
  {
   "cell_type": "code",
   "execution_count": null,
   "metadata": {
    "collapsed": false
   },
   "outputs": [],
   "source": [
    "plt.figure(figsize=(13, 8))\n",
    "plt.title('Path interferences')\n",
    "plt.scatter(lens, interfs)\n",
    "plt.xlim([0, 70])\n",
    "plt.ylim(ymin=0)\n",
    "plt.show()\n",
    "\n",
    "plt.figure(figsize=(13, 8))\n",
    "plt.boxplot(bucket_list(min_lens, interfs), whis=[5, 95], sym='', positions = [2.5+i*5 for i in range(14)])\n",
    "plt.xlim([0, 70])\n",
    "plt.ylim(ymin=0)\n",
    "plt.show()"
   ]
  },
  {
   "cell_type": "code",
   "execution_count": null,
   "metadata": {
    "collapsed": true
   },
   "outputs": [],
   "source": [
    "for path in paths:\n",
    "    key = str(path['id']) + '_' + str(path['minLength'])\n",
    "    path['exactOutput'] = idLen_to_exOut[key]"
   ]
  },
  {
   "cell_type": "code",
   "execution_count": null,
   "metadata": {
    "collapsed": true
   },
   "outputs": [],
   "source": [
    "lens = [ (path['minLength'] + path['maxLength'])/2000 for path in paths]\n",
    "deltas = [ path['tags']['score'] - path['exactOutput']['scoreBound'] for path in paths]"
   ]
  },
  {
   "cell_type": "code",
   "execution_count": null,
   "metadata": {
    "collapsed": false
   },
   "outputs": [],
   "source": [
    "plt.figure(figsize=(13, 8))\n",
    "plt.title('Path deltas')\n",
    "plt.scatter(lens, deltas)\n",
    "plt.xlim([0, 70])\n",
    "plt.ylim(ymin=0)\n",
    "plt.show()\n",
    "\n",
    "plt.figure(figsize=(13, 8))\n",
    "plt.boxplot(bucket_list(lens, deltas), positions = [2.5+i*5 for i in range(14)], whis=[5, 95], sym='')\n",
    "plt.xlim([0, 70])\n",
    "plt.ylim(ymin=0)\n",
    "plt.show()"
   ]
  },
  {
   "cell_type": "markdown",
   "metadata": {},
   "source": [
    "## Combine"
   ]
  },
  {
   "cell_type": "code",
   "execution_count": null,
   "metadata": {
    "collapsed": false
   },
   "outputs": [],
   "source": [
    "legendProxies = list()\n",
    "plt.figure(figsize=(10,6))\n",
    "\n",
    "found_configs = { str(path['id']) + '_' + str(path['minLength']) for path in paths }\n",
    "\n",
    "lens = list()\n",
    "score = list()\n",
    "for result in results_exact:\n",
    "    if str(result['configuration']['id']) + '_' + str(result['configuration']['minLength']) in found_configs:\n",
    "        lens.append((result['configuration']['minLength'] + result['configuration']['maxLength'])/2000)\n",
    "        score.append(result['output']['scoreBound'])\n",
    "bp = plt.boxplot(bucket_list(lens, score), whis=[5, 95], sym='', positions = [1.3+i*5 for i in range(14)], widths=0.8)\n",
    "plt.setp(bp['boxes'], color='black')\n",
    "plt.setp(bp['whiskers'], color='black')\n",
    "legendProxies.append(plt.Rectangle((0, 0), 1, 1, fc='black'))\n",
    "\n",
    "min_lens = [result['configuration']['minLength']/1000 for result in results_heuristic if 'bestOutput' in result['output']]\n",
    "score = [result['output']['bestOutput']['tags']['score'] for result in results_heuristic if 'bestOutput' in result['output']]\n",
    "bp = plt.boxplot(bucket_list(min_lens, score), whis=[5, 95], sym='', positions = [2.5+i*5 for i in range(14)], widths=0.8)\n",
    "plt.setp(bp['boxes'], color='green')\n",
    "plt.setp(bp['whiskers'], color='green')\n",
    "legendProxies.append(plt.Rectangle((0, 0), 1, 1, fc='green'))\n",
    "\n",
    "\n",
    "min_lens = list()\n",
    "score = list()\n",
    "for node in data_heuristic['nodes']:\n",
    "    for result in node['tag_results']:\n",
    "        if len(result['output']['paths'])>0:\n",
    "            min_lens.append(result['configuration']['minLength']/1000)\n",
    "            path = result['output']['paths'][0]\n",
    "            score.append(path['tags']['score'])\n",
    "bp = plt.boxplot(bucket_list(min_lens, score), whis=[5, 95], sym='', positions = [3.7+i*5 for i in range(14)], widths=0.8)\n",
    "plt.setp(bp['boxes'], color='blue')\n",
    "plt.setp(bp['whiskers'], color='blue')\n",
    "legendProxies.append(plt.Rectangle((0, 0), 1, 1, fc='blue'))\n",
    "\n",
    "plt.legend(legendProxies, ['optimal', 'best of four', 'single attempt'], loc='upper right')\n",
    "\n",
    "plt.xlim([0, 70])\n",
    "plt.ylim(ymin=0)\n",
    "plt.xticks(range(0, 80, 10), range(0, 80, 10))\n",
    "plt.xlabel('Length (km)')\n",
    "plt.ylabel('Score')\n",
    "plt.savefig(country + '_score_combined.' + extension, format=extension, dpi=1200, bbox_inches='tight')"
   ]
  },
  {
   "cell_type": "code",
   "execution_count": null,
   "metadata": {
    "collapsed": false
   },
   "outputs": [],
   "source": [
    "unachieved_exact = np.array([0 for i in range(14)])\n",
    "total_exact = np.array([0 for i in range(14)])\n",
    "for result in results_exact:\n",
    "    idx = int(result['configuration']['minLength']/5000)\n",
    "    if result['output']['scoreBound']>1000:\n",
    "        unachieved_exact[idx] += 1\n",
    "    total_exact[idx] += 1\n",
    "unachieved_exact = unachieved_exact/total_exact\n",
    "\n",
    "unachieved_best = np.array([0 for i in range(14)])\n",
    "total_best = np.array([0 for i in range(14)])\n",
    "for result in results_heuristic:\n",
    "    idx = int(result['configuration']['minLength']/5000)\n",
    "    if not 'bestOutput' in result['output']:\n",
    "        unachieved_best[idx] += 1\n",
    "    total_best[idx] += 1\n",
    "unachieved_best = unachieved_best/total_best\n",
    "\n",
    "unachieved_paths = np.array([0 for i in range(14)])\n",
    "total_paths = np.array([0 for i in range(14)])\n",
    "for node in data_heuristic['nodes']:\n",
    "    for result in node['tag_results']:\n",
    "        idx = int(result['configuration']['minLength']/5000)\n",
    "        total_paths[idx] +=  result['configuration']['alternatives']\n",
    "        unachieved_paths[idx] +=  result['configuration']['alternatives']-len(result['output']['paths'])\n",
    "unachieved_paths = unachieved_paths/total_paths\n",
    "\n",
    "plt.plot([2.5+5*i for i in range(len(unachieved_exact))], 100*unachieved_exact, label='optimal')\n",
    "plt.plot([2.5+5*i for i in range(len(unachieved_best))], 100*unachieved_best, label='four attempts')\n",
    "plt.plot([2.5+5*i for i in range(len(unachieved_paths))], 100*unachieved_paths, label='single attempt')\n",
    "\n",
    "plt.legend(loc='upper left')\n",
    "plt.xlabel('Length (km)')\n",
    "plt.ylabel('Failure rate (%)')\n",
    "\n",
    "plt.savefig(country + '_failure_combined.' + extension, format=extension, dpi=1200, bbox_inches='tight')\n",
    "plt.show()"
   ]
  },
  {
   "cell_type": "markdown",
   "metadata": {},
   "source": [
    "# Approximation algorithm (speed)"
   ]
  },
  {
   "cell_type": "code",
   "execution_count": null,
   "metadata": {
    "collapsed": true
   },
   "outputs": [],
   "source": [
    "with open('../source/output/' + country + '_results_fast.json') as data_file:    \n",
    "    data_fast = json.load(data_file)"
   ]
  },
  {
   "cell_type": "code",
   "execution_count": null,
   "metadata": {
    "collapsed": true
   },
   "outputs": [],
   "source": [
    "max_len_km = 150\n",
    "categories = np.array([x for x in  range(2500, max_len_km*1000+2500, 5000)])\n",
    "reaches = np.array([x for x in range(0, 1500, 500)])"
   ]
  },
  {
   "cell_type": "markdown",
   "metadata": {},
   "source": [
    "## Best scores"
   ]
  },
  {
   "cell_type": "code",
   "execution_count": null,
   "metadata": {
    "collapsed": true
   },
   "outputs": [],
   "source": [
    "results_fast = list()\n",
    "for node in data_fast['nodes']:\n",
    "    for result in node['tag_results']:\n",
    "        result['configuration']['id'] = node['id']\n",
    "        results_fast.append(result)"
   ]
  },
  {
   "cell_type": "code",
   "execution_count": null,
   "metadata": {
    "collapsed": false
   },
   "outputs": [],
   "source": [
    "for result in results_fast:\n",
    "    if len(result['output']['paths']):\n",
    "        result['output']['bestOutput'] = min(result['output']['paths'], key=lambda p: p['tags']['score'])"
   ]
  },
  {
   "cell_type": "code",
   "execution_count": null,
   "metadata": {
    "collapsed": false
   },
   "outputs": [],
   "source": [
    "min_lens = [result['configuration']['minLength']/1000 for result in results_fast if 'bestOutput' in result['output']]\n",
    "lens = [result['output']['bestOutput']['tags']['length']/1000 for result in results_fast if 'bestOutput' in result['output']]\n",
    "score = [result['output']['bestOutput']['tags']['score'] for result in results_fast if 'bestOutput' in result['output']]\n",
    "weights = [result['output']['bestOutput']['tags']['weight'] for result in results_fast if 'bestOutput' in result['output']]\n",
    "interfs = [result['output']['bestOutput']['tags']['interf'] for result in results_fast if 'bestOutput' in result['output']]"
   ]
  },
  {
   "cell_type": "code",
   "execution_count": null,
   "metadata": {
    "collapsed": false
   },
   "outputs": [],
   "source": [
    "plt.figure(figsize=(13, 8))\n",
    "plt.title('Best scores (4 attempts)')\n",
    "plt.scatter(lens, score)\n",
    "plt.xlim([0, max_len_km])\n",
    "plt.ylim(ymin=0)\n",
    "plt.ylabel('Score')\n",
    "plt.xlabel('Tour length (km)')\n",
    "\n",
    "plt.show()\n",
    "plt.figure(figsize=(13, 8))\n",
    "plt.boxplot(bucket_list(min_lens, score), whis=[5, 95], sym='', positions = [2.5+i*5 for i in range(30)])\n",
    "plt.ylim(ymin=0)\n",
    "plt.xlim([0, 70])\n",
    "plt.show()"
   ]
  },
  {
   "cell_type": "code",
   "execution_count": null,
   "metadata": {
    "collapsed": false
   },
   "outputs": [],
   "source": [
    "plt.figure(figsize=(13, 8))\n",
    "plt.title('Best weights (4 attempts)')\n",
    "plt.scatter(lens, weights)\n",
    "plt.xlim([0, max_len_km])\n",
    "plt.ylim(ymin=0)\n",
    "plt.ylabel('Score')\n",
    "plt.xlabel('Tour length (km)')\n",
    "plt.show()\n",
    "\n",
    "plt.show()\n",
    "plt.figure(figsize=(13, 8))\n",
    "plt.boxplot(bucket_list(min_lens, weights), whis=[5, 95], sym='', positions = [2.5+i*5 for i in range(30)])\n",
    "plt.ylim(ymin=0)\n",
    "plt.xlim([0, 70])\n",
    "plt.show()"
   ]
  },
  {
   "cell_type": "code",
   "execution_count": null,
   "metadata": {
    "collapsed": false
   },
   "outputs": [],
   "source": [
    "plt.figure(figsize=(13, 8))\n",
    "plt.title('Best interferences (4 attempts)')\n",
    "plt.scatter(lens, interfs)\n",
    "plt.xlim([0, max_len_km])\n",
    "plt.ylim(ymin=0)\n",
    "plt.ylabel('Score')\n",
    "plt.xlabel('Tour length (km)')\n",
    "plt.show()\n",
    "\n",
    "plt.show()\n",
    "plt.figure(figsize=(13, 8))\n",
    "plt.boxplot(bucket_list(min_lens, interfs), whis=[5, 95], sym='', positions = [2.5+i*5 for i in range(30)])\n",
    "plt.ylim(ymin=0)\n",
    "plt.xlim([0, 70])\n",
    "plt.show()"
   ]
  },
  {
   "cell_type": "code",
   "execution_count": null,
   "metadata": {
    "collapsed": false
   },
   "outputs": [],
   "source": [
    "outliers = list()\n",
    "confs = 0\n",
    "interf_confs = 0\n",
    "outlier_nodes = 0\n",
    "for node in data_fast['nodes']:\n",
    "    ls = list()\n",
    "    worst = 0\n",
    "    for result in node['tag_results']:\n",
    "        confs += 1\n",
    "        if 'bestOutput' in result['output']:\n",
    "            if result['configuration']['minLength']>40000:\n",
    "                if result['output']['bestOutput']['tags']['score']>worst:\n",
    "                    worst = result['output']['bestOutput']['tags']['score']\n",
    "                if result['output']['bestOutput']['tags']['score']>1.5:\n",
    "                    ls.append(str(result['configuration']['minLength'])+'-'+str(result['configuration']['maxLength']))\n",
    "                    interf_confs += 1\n",
    "    if len(ls)>0:\n",
    "        outlier_nodes += 1\n",
    "    outliers.append({'id': node['id'], 'lat': node['lat'], 'lon': node['lon'], 'problems': str(ls).replace('\\'', ''), 'worst': worst})\n",
    "        \n",
    "with open('best_outliers.json', 'w') as data_file:\n",
    "    json.dump({'nodes': outliers}, data_file)\n",
    "    \n",
    "print(\"Outlier nodes: \" + str(100.*outlier_nodes/len(data_fast['nodes'])) + '%')\n",
    "print(\"High interference configurations: \" + str(100.*interf_confs/confs) + '%')"
   ]
  },
  {
   "cell_type": "code",
   "execution_count": null,
   "metadata": {
    "collapsed": false
   },
   "outputs": [],
   "source": [
    "outliers = list()\n",
    "confs = 0\n",
    "unachieved_confs = 0\n",
    "unachieved_rates = list()\n",
    "for node in data_fast['nodes']:\n",
    "    ls = list()\n",
    "    node_confs = 0\n",
    "    node_unachieved_confs = 0\n",
    "    for result in node['tag_results']:\n",
    "        node_confs += 1\n",
    "        if not 'bestOutput' in result['output']:\n",
    "            node_unachieved_confs += 1\n",
    "            ls.append(str(result['configuration']['minLength'])+'-'+str(result['configuration']['maxLength']))\n",
    "    confs += node_confs\n",
    "    unachieved_confs += node_unachieved_confs\n",
    "    unachieved_rate = 100.*node_unachieved_confs/node_confs\n",
    "    unachieved_rates.append(unachieved_rate)\n",
    "    outliers.append({'id': node['id'], 'lat': node['lat'], 'lon': node['lon'], 'unachieved_rate': unachieved_rate, 'problems': str(ls).replace('\\'', '')})\n",
    "        \n",
    "with open('best_unachieved.json', 'w') as data_file:\n",
    "    json.dump({'nodes': outliers}, data_file)\n",
    "    \n",
    "print(\"Failed configurations: \" + str(100.*unachieved_confs/confs) + '%')"
   ]
  },
  {
   "cell_type": "code",
   "execution_count": null,
   "metadata": {
    "collapsed": false
   },
   "outputs": [],
   "source": [
    "plt.figure(figsize=(4, 3))\n",
    "hist = np.histogram(unachieved_rates, range=[0, 30], bins=6)\n",
    "plt.bar(hist[1][:-1], hist[0]/5, width=5)\n",
    "plt.xlabel('Failure rate (%)')\n",
    "plt.ylabel('# nodes (%)')\n",
    "plt.savefig(country + '_4attempt_failure_rate.' + extension, format=extension, dpi=1200, bbox_inches='tight')\n",
    "plt.show()"
   ]
  },
  {
   "cell_type": "markdown",
   "metadata": {},
   "source": [
    "## All scores"
   ]
  },
  {
   "cell_type": "code",
   "execution_count": null,
   "metadata": {
    "collapsed": false
   },
   "outputs": [],
   "source": [
    "paths = list()\n",
    "for node in data_fast['nodes']:\n",
    "    for result in node['tag_results']:\n",
    "        for path in result['output']['paths']:\n",
    "            path['id'] = node['id']\n",
    "            path['minLength'] = result['configuration']['minLength']\n",
    "            path['maxLength'] = result['configuration']['maxLength']\n",
    "            path['id'] = node['id']\n",
    "            path['reach'] = result['configuration']['reach']\n",
    "            paths.append(path)"
   ]
  },
  {
   "cell_type": "code",
   "execution_count": null,
   "metadata": {
    "collapsed": false
   },
   "outputs": [],
   "source": [
    "min_lens = [path['minLength']/1000 for path in paths]\n",
    "lens = [path['tags']['length']/1000 for path in paths]\n",
    "score = [path['tags']['score'] for path in paths]\n",
    "weights = [path['tags']['weight'] for path in paths]\n",
    "interfs = [path['tags']['interf'] for path in paths]"
   ]
  },
  {
   "cell_type": "code",
   "execution_count": null,
   "metadata": {
    "collapsed": false
   },
   "outputs": [],
   "source": [
    "plt.figure(figsize=(13, 8))\n",
    "plt.title('Path scores')\n",
    "plt.scatter(lens, score)\n",
    "plt.xlim([0, max_len_km])\n",
    "plt.ylim(ymin=0)\n",
    "plt.ylabel('Score')\n",
    "plt.xlabel('Tour length (km)')\n",
    "\n",
    "plt.show()\n",
    "plt.figure(figsize=(13, 8))\n",
    "plt.boxplot(bucket_list(min_lens, score), whis=[5, 95], sym='', positions = [2.5+i*5 for i in range(30)])\n",
    "plt.ylim(ymin=0)\n",
    "plt.xlim([0, 70])\n",
    "plt.show()"
   ]
  },
  {
   "cell_type": "code",
   "execution_count": null,
   "metadata": {
    "collapsed": false
   },
   "outputs": [],
   "source": [
    "plt.figure(figsize=(13, 8))\n",
    "plt.title('Path weights')\n",
    "plt.scatter(lens, weights)\n",
    "plt.xlim([0, max_len_km])\n",
    "plt.ylim(ymin=0)\n",
    "plt.ylabel('Score')\n",
    "plt.xlabel('Tour length (km)')\n",
    "plt.show()\n",
    "\n",
    "plt.figure(figsize=(13, 8))\n",
    "plt.boxplot(bucket_list(min_lens, weights), whis=[5, 95], sym='', positions = [2.5+i*5 for i in range(30)])\n",
    "plt.ylim(ymin=0)\n",
    "plt.xlim([0, 70])\n",
    "plt.show()"
   ]
  },
  {
   "cell_type": "code",
   "execution_count": null,
   "metadata": {
    "collapsed": false
   },
   "outputs": [],
   "source": [
    "plt.figure(figsize=(13, 8))\n",
    "plt.title('Path interferences')\n",
    "plt.scatter(lens, interfs)\n",
    "plt.xlim([0, max_len_km])\n",
    "plt.ylim(ymin=0)\n",
    "plt.ylabel('Score')\n",
    "plt.xlabel('Tour length (km)')\n",
    "plt.show()\n",
    "\n",
    "plt.figure(figsize=(13, 8))\n",
    "plt.boxplot(bucket_list(min_lens, interfs), whis=[5, 95], sym='', positions = [2.5+i*5 for i in range(30)])\n",
    "plt.ylim(ymin=0)\n",
    "plt.xlim([0, 70])\n",
    "plt.show()"
   ]
  },
  {
   "cell_type": "code",
   "execution_count": null,
   "metadata": {
    "collapsed": false
   },
   "outputs": [],
   "source": [
    "outliers = list()\n",
    "confs = 0\n",
    "unachieved_confs = 0\n",
    "unachieved_rates = list()\n",
    "outliers = list()\n",
    "for node in data_fast['nodes']:\n",
    "    node_confs = 0\n",
    "    node_unachieved_confs = 0\n",
    "    for result in node['tag_results']:\n",
    "        node_confs += result['configuration']['alternatives']\n",
    "        node_unachieved_confs += result['configuration']['alternatives'] - len(result['output']['paths'])\n",
    "            \n",
    "    confs += node_confs\n",
    "    unachieved_confs += node_unachieved_confs\n",
    "    unachieved_rate = 100.*node_unachieved_confs/node_confs\n",
    "    unachieved_rates.append(unachieved_rate)\n",
    "    outliers.append({'id': node['id'], 'lat': node['lat'], 'lon': node['lon'], 'unachieved_rate': unachieved_rate})\n",
    "        \n",
    "with open('path_unachieved.json', 'w') as data_file:\n",
    "    json.dump({'nodes': outliers}, data_file)\n",
    "\n",
    "print(\"Failed attempts: \" + str(100.*unachieved_confs/confs) + '%')"
   ]
  },
  {
   "cell_type": "code",
   "execution_count": null,
   "metadata": {
    "collapsed": false
   },
   "outputs": [],
   "source": [
    "plt.figure(figsize=(4, 3))\n",
    "hist = np.histogram(unachieved_rates, range=[0, 30], bins=6)\n",
    "plt.bar(hist[1][:-1], hist[0]/5, width=5)\n",
    "plt.xlabel('Failure rate (%)')\n",
    "plt.ylabel('# nodes (%)')\n",
    "plt.savefig(country + '_attempt_failure_rate.' + extension, format=extension, dpi=1200, bbox_inches='tight')\n",
    "plt.show()"
   ]
  },
  {
   "cell_type": "code",
   "execution_count": null,
   "metadata": {
    "collapsed": false
   },
   "outputs": [],
   "source": [
    "unachieved_best = np.array([0 for i in range(30)])\n",
    "total_best = np.array([0 for i in range(30)])\n",
    "for result in results_fast:\n",
    "    idx = int(result['configuration']['minLength']/5000)\n",
    "    if not 'bestOutput' in result['output']:\n",
    "        unachieved_best[idx] += 1\n",
    "    total_best[idx] += 1\n",
    "unachieved_best = unachieved_best/total_best\n",
    "\n",
    "unachieved_paths = np.array([0 for i in range(30)])\n",
    "total_paths = np.array([0 for i in range(30)])\n",
    "for node in data_fast['nodes']:\n",
    "    for result in node['tag_results']:\n",
    "        idx = int(result['configuration']['minLength']/5000)\n",
    "        total_paths[idx] +=  result['configuration']['alternatives']\n",
    "        unachieved_paths[idx] +=  result['configuration']['alternatives']-len(result['output']['paths'])\n",
    "unachieved_paths = unachieved_paths/total_paths\n",
    "\n",
    "plt.plot([2.5+5*i for i in range(len(unachieved_best))], 100*unachieved_best, label='four attempts')\n",
    "plt.plot([2.5+5*i for i in range(len(unachieved_paths))], 100*unachieved_paths, label='single attempt')\n",
    "\n",
    "plt.legend(loc='upper left')\n",
    "plt.xlim([0, 150])\n",
    "plt.xlabel('Length (km)')\n",
    "plt.ylabel('Failure rate (%)')\n",
    "\n",
    "plt.savefig(country + '_len_failure_rate.' + extension, format=extension, dpi=1200, bbox_inches='tight')\n",
    "plt.show()"
   ]
  },
  {
   "cell_type": "markdown",
   "metadata": {},
   "source": [
    "## Execution time"
   ]
  },
  {
   "cell_type": "markdown",
   "metadata": {},
   "source": [
    "### Outliers"
   ]
  },
  {
   "cell_type": "code",
   "execution_count": null,
   "metadata": {
    "collapsed": false
   },
   "outputs": [],
   "source": [
    "extract = list()\n",
    "forward = list()\n",
    "backward = list()\n",
    "rem = list()\n",
    "lengths = list()\n",
    "\n",
    "for result in results_fast:\n",
    "    extract_time = result['output']['extractTime']\n",
    "    forward_time = result['output']['forwardTime']\n",
    "    avg_backward_time = result['output']['backwardTimeAvg']\n",
    "    attempts = result['configuration']['alternatives']\n",
    "    avg_rem_time = (result['output']['time']-attempts*avg_backward_time-forward_time-extract_time)/attempts\n",
    "    reach_ind = int(result['configuration']['reach']/500)\n",
    "    extract.append(extract_time)\n",
    "    forward.append(forward_time)\n",
    "    backward.append(avg_backward_time)\n",
    "    rem.append(avg_rem_time)\n",
    "    lengths.append((result['configuration']['minLength']+result['configuration']['maxLength'])/2)\n",
    "    \n",
    "extract = np.array(extract)\n",
    "forward = np.array(forward)\n",
    "backward = np.array(backward)\n",
    "rem = np.array(rem)\n",
    "lengths = np.array(lengths)"
   ]
  },
  {
   "cell_type": "code",
   "execution_count": null,
   "metadata": {
    "collapsed": false
   },
   "outputs": [],
   "source": [
    "plt.figure(figsize=(13, 8))\n",
    "plt.title('Forward times')\n",
    "plt.scatter(lengths/1000, forward*1000)\n",
    "plt.xlim([0, max_len_km])\n",
    "plt.ylim(ymin=0)\n",
    "plt.ylabel('Time (ms)')\n",
    "plt.xlabel('Tour length (km)')\n",
    "plt.plot([0, 150], [300, 300], 'k-')\n",
    "plt.show()\n",
    "\n",
    "plt.figure(figsize=(13, 8))\n",
    "plt.title('Backward times')\n",
    "plt.scatter(lengths/1000, backward*1000)\n",
    "plt.xlim([0, max_len_km])\n",
    "plt.ylim(ymin=0)\n",
    "plt.ylabel('Time (ms)')\n",
    "plt.xlabel('Tour length (km)')\n",
    "plt.plot([0, 150], [80, 400], 'k-')\n",
    "plt.show()"
   ]
  },
  {
   "cell_type": "code",
   "execution_count": null,
   "metadata": {
    "collapsed": false
   },
   "outputs": [],
   "source": [
    "nrOutliers = 0\n",
    "for result in results_fast:\n",
    "    outlier = False\n",
    "    reach_ind = int(result['configuration']['reach']/500)\n",
    "    length = (result['configuration']['minLength']+result['configuration']['maxLength'])/2\n",
    "    forward_time = result['output']['forwardTime']\n",
    "    avg_backward_time = result['output']['backwardTimeAvg']\n",
    "    if (forward_time>0.3):\n",
    "        outlier = True\n",
    "    if (avg_backward_time>0.08+length*(0.4-.08)/150000):\n",
    "        outlier = True\n",
    "    result['output']['outlierTime'] = outlier\n",
    "    nrOutliers += outlier\n",
    "\n",
    "print('Time outliers: ' + str(100.*nrOutliers/len(results_fast)) + '%')"
   ]
  },
  {
   "cell_type": "markdown",
   "metadata": {},
   "source": [
    "### Average execution times"
   ]
  },
  {
   "cell_type": "code",
   "execution_count": null,
   "metadata": {
    "collapsed": false
   },
   "outputs": [],
   "source": [
    "extract_per_category = [list() for category in categories]\n",
    "forward_per_category = [list() for category in categories]\n",
    "avg_backward_per_category = [list() for category in categories]\n",
    "avg_rem_per_category = [list() for category in categories]\n",
    "tot_backward_per_category = [list() for category in categories]\n",
    "tot_rem_per_category = [list() for category in categories]\n",
    "extract = list()\n",
    "forward = list()\n",
    "backward = list()\n",
    "rem = list()\n",
    "lengths = list()\n",
    "\n",
    "for result in results_fast:\n",
    "    if not result['output']['outlierTime']:\n",
    "        extract_time = result['output']['extractTime']\n",
    "        forward_time = result['output']['forwardTime']\n",
    "        avg_backward_time = result['output']['backwardTimeAvg']\n",
    "        attempts = result['configuration']['alternatives']\n",
    "        avg_rem_time = (result['output']['time']-attempts*avg_backward_time-forward_time-extract_time)/attempts\n",
    "        category_ind = int(result['configuration']['minLength']/5000)\n",
    "        extract_per_category[category_ind].append(extract_time)\n",
    "        forward_per_category[category_ind].append(forward_time)\n",
    "        avg_backward_per_category[category_ind].append(avg_backward_time)\n",
    "        avg_rem_per_category[category_ind].append(avg_rem_time)\n",
    "        extract.append(extract_time)\n",
    "        forward.append(forward_time)\n",
    "        backward.append(avg_backward_time)\n",
    "        rem.append(avg_rem_time)\n",
    "        lengths.append((result['configuration']['minLength']+result['configuration']['maxLength'])/2)\n",
    "        tot_backward_per_category[category_ind].append(avg_backward_time*attempts)\n",
    "        tot_rem_per_category[category_ind].append(avg_rem_time*attempts)\n",
    "    \n",
    "    \n",
    "for i in range(len(categories)):\n",
    "    extract_per_category[i] = np.array(extract_per_category[i])\n",
    "    forward_per_category[i] = np.array(forward_per_category[i])\n",
    "    avg_backward_per_category[i] = np.array(avg_backward_per_category[i])\n",
    "    avg_rem_per_category[i] = np.array(avg_rem_per_category[i])\n",
    "    tot_backward_per_category[i] = np.array(tot_backward_per_category[i])\n",
    "    tot_rem_per_category[i] = np.array(tot_rem_per_category[i])\n",
    "        \n",
    "extract = np.array(extract)\n",
    "forward = np.array(forward)\n",
    "backward = np.array(backward)\n",
    "rem = np.array(rem)\n",
    "lengths = np.array(lengths)"
   ]
  },
  {
   "cell_type": "code",
   "execution_count": null,
   "metadata": {
    "collapsed": false
   },
   "outputs": [],
   "source": [
    "plt.figure(figsize=(13, 8))\n",
    "plt.title('Forward times')\n",
    "plt.scatter(lengths/1000, forward*1000)\n",
    "plt.xlim([0, max_len_km])\n",
    "plt.ylim(ymin=0)\n",
    "plt.ylabel('Time (ms)')\n",
    "plt.xlabel('Tour length (km)')\n",
    "plt.plot([0, 150], [500, 500], 'k-')\n",
    "plt.show()\n",
    "\n",
    "plt.figure(figsize=(13, 8))\n",
    "plt.title('Backward times')\n",
    "plt.scatter(lengths/1000, backward*1000)\n",
    "plt.xlim([0, max_len_km])\n",
    "plt.ylim(ymin=0)\n",
    "plt.ylabel('Time (ms)')\n",
    "plt.xlabel('Tour length (km)')\n",
    "plt.plot([0, 150], [80, 400], 'k-')\n",
    "plt.show()"
   ]
  },
  {
   "cell_type": "code",
   "execution_count": null,
   "metadata": {
    "collapsed": false
   },
   "outputs": [],
   "source": [
    "avg_extract_per_category = [1000*np.mean(extract_per_category[i]) for i in range(len(categories))]\n",
    "avg_forward_per_category = [1000*np.mean(forward_per_category[i]) for i in range(len(categories))]\n",
    "avg_avg_backward_per_category = [1000*np.mean(avg_backward_per_category[i]) for i in range(len(categories))]\n",
    "avg_avg_rem_per_category = [1000*np.mean(avg_rem_per_category[i]) for i in range(len(categories))]"
   ]
  },
  {
   "cell_type": "code",
   "execution_count": null,
   "metadata": {
    "collapsed": false
   },
   "outputs": [],
   "source": [
    "plt.figure()\n",
    "polys = plt.stackplot(categories/1000, avg_extract_per_category, avg_forward_per_category, avg_avg_backward_per_category, avg_avg_rem_per_category)\n",
    "legendProxies = []\n",
    "for poly in polys:\n",
    "    legendProxies.append(plt.Rectangle((0, 0), 1, 1, fc=poly.get_facecolor()[0]))\n",
    "plt.title('Single attempt time')\n",
    "plt.legend(legendProxies, ['extraction', 'forward routing', 'backward routing', 'other'], loc='upper left')\n",
    "plt.xlabel('Length (km)')\n",
    "plt.ylabel('Time (ms)')\n",
    "plt.xlim([0, 147.5])\n",
    "plt.show()"
   ]
  },
  {
   "cell_type": "code",
   "execution_count": null,
   "metadata": {
    "collapsed": false
   },
   "outputs": [],
   "source": [
    "plt.figure()\n",
    "polys = plt.stackplot(categories/1000, avg_forward_per_category, avg_avg_backward_per_category)\n",
    "legendProxies = []\n",
    "for poly in polys:\n",
    "    legendProxies.append(plt.Rectangle((0, 0), 1, 1, fc=poly.get_facecolor()[0]))\n",
    "plt.legend(legendProxies, ['forward routing', 'backward routing'], loc='upper left')\n",
    "plt.xlabel('Length (km)')\n",
    "plt.ylabel('Time (ms)')\n",
    "plt.xlim([0, 147.5])\n",
    "plt.savefig(country + '_time.' + extension, format=extension, dpi=1200, bbox_inches='tight')\n",
    "plt.show()"
   ]
  },
  {
   "cell_type": "code",
   "execution_count": null,
   "metadata": {
    "collapsed": false
   },
   "outputs": [],
   "source": [
    "avg_tot_backward_per_category = [1000*np.mean(tot_backward_per_category[i]) for i in range(len(categories))]\n",
    "avg_tot_rem_per_category = [1000*np.mean(tot_rem_per_category[i]) for i in range(len(categories))]"
   ]
  },
  {
   "cell_type": "code",
   "execution_count": null,
   "metadata": {
    "collapsed": false
   },
   "outputs": [],
   "source": [
    "plt.figure()\n",
    "polys = plt.stackplot(categories/1000, avg_extract_per_category, avg_forward_per_category, avg_tot_backward_per_category, avg_tot_rem_per_category)\n",
    "legendProxies = []\n",
    "for poly in polys:\n",
    "    legendProxies.append(plt.Rectangle((0, 0), 1, 1, fc=poly.get_facecolor()[0]))\n",
    "plt.legend(legendProxies, ['extraction', 'forward routing', 'backward routing', 'other'], loc='upper left')\n",
    "plt.title('4 attempts time')\n",
    "plt.xlabel('Length (km)')\n",
    "plt.ylabel('Time (ms)')\n",
    "plt.xlim([0, 147.5])\n",
    "plt.show()"
   ]
  },
  {
   "cell_type": "code",
   "execution_count": null,
   "metadata": {
    "collapsed": false
   },
   "outputs": [],
   "source": [
    "plt.figure()\n",
    "polys = plt.stackplot(categories/1000, avg_forward_per_category, avg_tot_backward_per_category)\n",
    "legendProxies = []\n",
    "for poly in polys:\n",
    "    legendProxies.append(plt.Rectangle((0, 0), 1, 1, fc=poly.get_facecolor()[0]))\n",
    "plt.legend(legendProxies, ['forward routing', 'backward routing'], loc='upper left')\n",
    "plt.xlabel('Length (km)')\n",
    "plt.ylabel('Time (ms)')\n",
    "plt.xlim([0, 147.5])\n",
    "plt.savefig(country + '_time4.' + extension, format=extension, dpi=1200, bbox_inches='tight')\n",
    "plt.show()"
   ]
  },
  {
   "cell_type": "markdown",
   "metadata": {
    "collapsed": false
   },
   "source": [
    "## Execution time (slow)"
   ]
  },
  {
   "cell_type": "code",
   "execution_count": null,
   "metadata": {
    "collapsed": true
   },
   "outputs": [],
   "source": [
    "with open('../source/output/' + country + '_results_slow.json') as data_file:    \n",
    "    data_slow = json.load(data_file)"
   ]
  },
  {
   "cell_type": "code",
   "execution_count": null,
   "metadata": {
    "collapsed": true
   },
   "outputs": [],
   "source": [
    "results_slow = list()\n",
    "for node in data_slow['nodes']:\n",
    "    for result in node['tag_results']:\n",
    "        result['configuration']['id'] = node['id']\n",
    "        results_slow.append(result)"
   ]
  },
  {
   "cell_type": "markdown",
   "metadata": {},
   "source": [
    "### Outliers"
   ]
  },
  {
   "cell_type": "code",
   "execution_count": null,
   "metadata": {
    "collapsed": true
   },
   "outputs": [],
   "source": [
    "extract = list()\n",
    "forward = list()\n",
    "backward = list()\n",
    "rem = list()\n",
    "lengths = list()\n",
    "\n",
    "for result in results_slow:\n",
    "    extract_time = result['output']['extractTime']\n",
    "    forward_time = result['output']['forwardTime']\n",
    "    avg_backward_time = result['output']['backwardTimeAvg']\n",
    "    attempts = result['configuration']['alternatives']\n",
    "    avg_rem_time = (result['output']['time']-attempts*avg_backward_time-forward_time-extract_time)/attempts\n",
    "    reach_ind = int(result['configuration']['reach']/500)\n",
    "    extract.append(extract_time)\n",
    "    forward.append(forward_time)\n",
    "    backward.append(avg_backward_time)\n",
    "    rem.append(avg_rem_time)\n",
    "    lengths.append((result['configuration']['minLength']+result['configuration']['maxLength'])/2)\n",
    "    \n",
    "extract = np.array(extract)\n",
    "forward = np.array(forward)\n",
    "backward = np.array(backward)\n",
    "rem = np.array(rem)\n",
    "lengths = np.array(lengths)"
   ]
  },
  {
   "cell_type": "code",
   "execution_count": null,
   "metadata": {
    "collapsed": false
   },
   "outputs": [],
   "source": [
    "plt.figure(figsize=(13, 8))\n",
    "plt.title('Forward times')\n",
    "plt.scatter(lengths/1000, forward*1000)\n",
    "plt.xlim([0, max_len_km])\n",
    "plt.ylim(ymin=0)\n",
    "plt.ylabel('Time (ms)')\n",
    "plt.xlabel('Tour length (km)')\n",
    "plt.plot([0, 150], [700, 700], 'k-')\n",
    "plt.show()\n",
    "\n",
    "plt.figure(figsize=(13, 8))\n",
    "plt.title('Backward times')\n",
    "plt.scatter(lengths/1000, backward*1000)\n",
    "plt.xlim([0, max_len_km])\n",
    "plt.ylim(ymin=0)\n",
    "plt.ylabel('Time (ms)')\n",
    "plt.xlabel('Tour length (km)')\n",
    "plt.plot([0, 150], [100, 900], 'k-')\n",
    "plt.show()"
   ]
  },
  {
   "cell_type": "code",
   "execution_count": null,
   "metadata": {
    "collapsed": false
   },
   "outputs": [],
   "source": [
    "nrOutliers = 0\n",
    "for result in results_slow:\n",
    "    outlier = False\n",
    "    reach_ind = int(result['configuration']['reach']/500)\n",
    "    length = (result['configuration']['minLength']+result['configuration']['maxLength'])/2\n",
    "    forward_time = result['output']['forwardTime']\n",
    "    avg_backward_time = result['output']['backwardTimeAvg']\n",
    "    if (forward_time>0.7):\n",
    "        outlier = True\n",
    "    if (avg_backward_time>0.1+length*(0.9-.1)/150000):\n",
    "        outlier = True\n",
    "    result['output']['outlierTime'] = outlier\n",
    "    nrOutliers += outlier\n",
    "\n",
    "print('Time outliers: ' + str(100.*nrOutliers/len(results_slow)) + '%')"
   ]
  },
  {
   "cell_type": "markdown",
   "metadata": {},
   "source": [
    "### Average execution times"
   ]
  },
  {
   "cell_type": "code",
   "execution_count": null,
   "metadata": {
    "collapsed": true
   },
   "outputs": [],
   "source": [
    "extract_per_category = [list() for category in categories]\n",
    "forward_per_category = [list() for category in categories]\n",
    "avg_backward_per_category = [list() for category in categories]\n",
    "avg_rem_per_category = [list() for category in categories]\n",
    "tot_backward_per_category = [list() for category in categories]\n",
    "tot_rem_per_category = [list() for category in categories]\n",
    "extract = list()\n",
    "forward = list()\n",
    "backward = list()\n",
    "rem = list()\n",
    "lengths = list()\n",
    "\n",
    "for result in results_slow:\n",
    "    if not result['output']['outlierTime']:\n",
    "        extract_time = result['output']['extractTime']\n",
    "        forward_time = result['output']['forwardTime']\n",
    "        avg_backward_time = result['output']['backwardTimeAvg']\n",
    "        attempts = result['configuration']['alternatives']\n",
    "        avg_rem_time = (result['output']['time']-attempts*avg_backward_time-forward_time-extract_time)/attempts\n",
    "        category_ind = int(result['configuration']['minLength']/5000)\n",
    "        extract_per_category[category_ind].append(extract_time)\n",
    "        forward_per_category[category_ind].append(forward_time)\n",
    "        avg_backward_per_category[category_ind].append(avg_backward_time)\n",
    "        avg_rem_per_category[category_ind].append(avg_rem_time)\n",
    "        extract.append(extract_time)\n",
    "        forward.append(forward_time)\n",
    "        backward.append(avg_backward_time)\n",
    "        rem.append(avg_rem_time)\n",
    "        lengths.append((result['configuration']['minLength']+result['configuration']['maxLength'])/2)\n",
    "        tot_backward_per_category[category_ind].append(avg_backward_time*attempts)\n",
    "        tot_rem_per_category[category_ind].append(avg_rem_time*attempts)\n",
    "    \n",
    "    \n",
    "for i in range(len(categories)):\n",
    "    extract_per_category[i] = np.array(extract_per_category[i])\n",
    "    forward_per_category[i] = np.array(forward_per_category[i])\n",
    "    avg_backward_per_category[i] = np.array(avg_backward_per_category[i])\n",
    "    avg_rem_per_category[i] = np.array(avg_rem_per_category[i])\n",
    "    tot_backward_per_category[i] = np.array(tot_backward_per_category[i])\n",
    "    tot_rem_per_category[i] = np.array(tot_rem_per_category[i])\n",
    "        \n",
    "extract = np.array(extract)\n",
    "forward = np.array(forward)\n",
    "backward = np.array(backward)\n",
    "rem = np.array(rem)\n",
    "lengths = np.array(lengths)"
   ]
  },
  {
   "cell_type": "code",
   "execution_count": null,
   "metadata": {
    "collapsed": false
   },
   "outputs": [],
   "source": [
    "plt.figure(figsize=(13, 8))\n",
    "plt.title('Forward times')\n",
    "plt.scatter(lengths/1000, forward*1000)\n",
    "plt.xlim([0, max_len_km])\n",
    "plt.ylim(ymin=0)\n",
    "plt.ylabel('Time (ms)')\n",
    "plt.xlabel('Tour length (km)')\n",
    "plt.plot([0, 150], [700, 700], 'k-')\n",
    "plt.show()\n",
    "\n",
    "plt.figure(figsize=(13, 8))\n",
    "plt.title('Backward times')\n",
    "plt.scatter(lengths/1000, backward*1000)\n",
    "plt.xlim([0, max_len_km])\n",
    "plt.ylim(ymin=0)\n",
    "plt.ylabel('Time (ms)')\n",
    "plt.xlabel('Tour length (km)')\n",
    "plt.plot([0, 150], [100, 900], 'k-')\n",
    "plt.show()"
   ]
  },
  {
   "cell_type": "code",
   "execution_count": null,
   "metadata": {
    "collapsed": true
   },
   "outputs": [],
   "source": [
    "avg_forward_per_category_slow = [1000*np.mean(forward_per_category[i]) for i in range(len(categories))]\n",
    "avg_avg_backward_per_category_slow = [1000*np.mean(avg_backward_per_category[i]) for i in range(len(categories))]"
   ]
  },
  {
   "cell_type": "code",
   "execution_count": null,
   "metadata": {
    "collapsed": false
   },
   "outputs": [],
   "source": [
    "plt.figure()\n",
    "plt.plot(categories/1000, avg_forward_per_category_slow, categories/1000, avg_forward_per_category)\n",
    "plt.xlabel('Length (km)')\n",
    "plt.ylabel('Time (ms)')\n",
    "plt.xlim([0, 147.5])\n",
    "plt.legend(['No reaches', 'Reaches'], loc='upper left')\n",
    "plt.savefig(country + '_forward_time.' + extension, format=extension, dpi=1200, bbox_inches='tight')\n",
    "plt.show()"
   ]
  },
  {
   "cell_type": "code",
   "execution_count": null,
   "metadata": {
    "collapsed": false
   },
   "outputs": [],
   "source": [
    "plt.figure()\n",
    "plt.plot(categories/1000, avg_avg_backward_per_category_slow, categories/1000, avg_avg_backward_per_category)\n",
    "plt.xlabel('Length (km)')\n",
    "plt.ylabel('Time (ms)')\n",
    "plt.xlim([0, 147.5])\n",
    "plt.legend([r'$0$', r'$0.6$'], loc='upper left')\n",
    "plt.savefig(country + '_backward_time.' + extension, format=extension, dpi=1200, bbox_inches='tight')\n",
    "plt.show()"
   ]
  },
  {
   "cell_type": "markdown",
   "metadata": {
    "collapsed": true
   },
   "source": [
    "# Miscellaneous"
   ]
  },
  {
   "cell_type": "code",
   "execution_count": null,
   "metadata": {
    "collapsed": true
   },
   "outputs": [],
   "source": [
    "nrNodes = 560559\n",
    "reaches = [107458, 36123, 25820, 20473, 16971, 14333, 12348, 10866, 9536, 8764, 8123, 7532, 7011, 6282, 5820, 5390, 5136, 4758, 4466, 4155, 4181, 3930, 3685, 3663, 3459, 3477, 3315, 3138, 3030, 2872, 2766, 2711, 2641, 2440, 2415, 2318, 2180, 2048, 2082, 1973, 1900, 1889, 1764, 1781, 1733, 1651, 1658, 1537, 1538, 1522]"
   ]
  },
  {
   "cell_type": "code",
   "execution_count": null,
   "metadata": {
    "collapsed": false
   },
   "outputs": [],
   "source": [
    "plt.ylim([0, 1])\n",
    "plt.plot(np.arange(50, 50+100*len(reaches), 100)/1000, np.cumsum(reaches)/nrNodes)\n",
    "plt.xlabel('Length (km)')\n",
    "plt.ylabel('Node fraction')\n",
    "plt.savefig(country + '_reaches.' + extension, format=extension, dpi=1200, bbox_inches='tight')\n",
    "plt.show()"
   ]
  },
  {
   "cell_type": "code",
   "execution_count": null,
   "metadata": {
    "collapsed": true
   },
   "outputs": [],
   "source": []
  }
 ],
 "metadata": {
  "kernelspec": {
   "display_name": "Python 3",
   "language": "python",
   "name": "python3"
  },
  "language_info": {
   "codemirror_mode": {
    "name": "ipython",
    "version": 3
   },
   "file_extension": ".py",
   "mimetype": "text/x-python",
   "name": "python",
   "nbconvert_exporter": "python",
   "pygments_lexer": "ipython3",
   "version": "3.4.3"
  }
 },
 "nbformat": 4,
 "nbformat_minor": 2
}
